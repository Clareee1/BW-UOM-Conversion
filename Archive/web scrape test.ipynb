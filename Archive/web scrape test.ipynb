{
 "cells": [
  {
   "cell_type": "code",
   "execution_count": 67,
   "id": "d432a4e7",
   "metadata": {},
   "outputs": [],
   "source": [
    "import re\n",
    "import requests\n",
    "import urllib\n",
    "def get_results(query): \n",
    "    query = urllib.parse.quote_plus(query)\n",
    "    response = get_source(\"https://www.google.com/search?q=\" + query) \n",
    "    return response"
   ]
  },
  {
   "cell_type": "code",
   "execution_count": 68,
   "id": "1a295dfa",
   "metadata": {},
   "outputs": [],
   "source": [
    "def parse_results(response):    \n",
    "    css_identifier_result = \".tF2Cxc\"\n",
    "    css_identifier_title = \"h3\"\n",
    "    css_identifier_link = \".yuRUbf a\"\n",
    "    css_identifier_text = \".IsZvec\"    \n",
    "    results = response.html.find(css_identifier_result)\n",
    "    output = []    \n",
    "    for result in results:\n",
    "        item = result.find(css_identifier_link, first=True).attrs['href']\n",
    "        output.append(item)        \n",
    "    return output"
   ]
  },
  {
   "cell_type": "code",
   "execution_count": 69,
   "id": "af131953",
   "metadata": {},
   "outputs": [],
   "source": [
    "import requests_html\n",
    "from requests_html import HTML\n",
    "from requests_html import HTMLSession\n",
    "def get_source(url):\n",
    "    try:\n",
    "        session = HTMLSession()\n",
    "        response = session.get(url,verify = False)\n",
    "        return response\n",
    "    except requests.exceptions.RequestException as e:\n",
    "        print(e)"
   ]
  },
  {
   "cell_type": "code",
   "execution_count": 70,
   "id": "beddc967",
   "metadata": {},
   "outputs": [],
   "source": [
    "def google_search(query):\n",
    "    response = get_results(query)\n",
    "    return parse_results(response)"
   ]
  },
  {
   "cell_type": "code",
   "execution_count": 71,
   "id": "8f776add",
   "metadata": {},
   "outputs": [
    {
     "name": "stderr",
     "output_type": "stream",
     "text": [
      "C:\\Users\\CXX01\\Anaconda3\\lib\\site-packages\\urllib3\\connectionpool.py:1013: InsecureRequestWarning: Unverified HTTPS request is being made to host 'www.google.com'. Adding certificate verification is strongly advised. See: https://urllib3.readthedocs.io/en/latest/advanced-usage.html#ssl-warnings\n",
      "  warnings.warn(\n"
     ]
    },
    {
     "name": "stdout",
     "output_type": "stream",
     "text": [
      "https://www.blackwoods.com.au/hygiene-cleaning/paper-products-dispensers/facial-tissues-kleenex-and-scott/tissue-facial-exec-kleenex-4715-200sh-24/p/04472809\n"
     ]
    }
   ],
   "source": [
    "from bs4 import BeautifulSoup\n",
    "url = google_search('Blackwoods 04472809')[0]\n",
    "print(url)"
   ]
  },
  {
   "cell_type": "code",
   "execution_count": 72,
   "id": "56df20f0",
   "metadata": {},
   "outputs": [
    {
     "name": "stdout",
     "output_type": "stream",
     "text": [
      "Kleenex® Flat Box Facial Tissue 4715 - White - 200 Tissues Per Box - Case of 24 Boxes\n",
      "24\n"
     ]
    }
   ],
   "source": [
    "session = requests.Session()\n",
    "session.headers = {\n",
    "    \"User-Agent\": \"Mozilla/5.0 (Windows NT 10.0; Win64; x64) AppleWebKit/537.36 (KHTML, like Gecko) Chrome/71.1.2222.33 Safari/537.36\",\n",
    "    \"Accept-Encoding\": \"*\",\n",
    "    \"Connection\": \"keep-alive\"\n",
    "}\n",
    "r = session.get(url)\n",
    "soup = BeautifulSoup(r.text, \"html.parser\")\n",
    "if soup.find_all('h1', class_='productCaption'):\n",
    "    content = soup.find_all('h1', class_='productCaption')[0].text\n",
    "    print(content)\n",
    "    #bracket\n",
    "    if re.search(r'\\((.*)\\)' , content) :        \n",
    "        inner = re.search(r'\\((.*)\\)' , content).group(1)\n",
    "        if inner.isdigit():\n",
    "            Bw_qty = inner \n",
    "    #bag of 10\n",
    "    elif (re.search(r\"(?i)\\s+of(\\s*)(\\d+)\",content)):\n",
    "        Bw_qty = re.search(r\"(?i)\\s+of(\\s*)(\\d+)\",content).group(2) \n",
    "        print(Bw_qty)"
   ]
  }
 ],
 "metadata": {
  "kernelspec": {
   "display_name": "Python 3",
   "language": "python",
   "name": "python3"
  },
  "language_info": {
   "codemirror_mode": {
    "name": "ipython",
    "version": 3
   },
   "file_extension": ".py",
   "mimetype": "text/x-python",
   "name": "python",
   "nbconvert_exporter": "python",
   "pygments_lexer": "ipython3",
   "version": "3.8.8"
  }
 },
 "nbformat": 4,
 "nbformat_minor": 5
}
